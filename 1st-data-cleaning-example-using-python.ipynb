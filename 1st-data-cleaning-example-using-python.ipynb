{
 "cells": [
  {
   "cell_type": "markdown",
   "metadata": {},
   "source": [
    "## 1st Exercise\n",
    "\n",
    "Let's walk through a practical example of data cleaning and preprocessing using Python's pandas library. For this example, we'll work with an \"illustrative real-world dataset\" containing information about customer orders. We'll focus on cleaning and preprocessing the date data in the dataset."
   ]
  },
  {
   "cell_type": "markdown",
   "metadata": {},
   "source": [
    "## Step 1: Import Required Libraries\n",
    "\n",
    "This will be only Pandas and or other libraries depending on your setup"
   ]
  },
  {
   "cell_type": "code",
   "execution_count": 2,
   "metadata": {},
   "outputs": [],
   "source": [
    "import pandas as pd"
   ]
  },
  {
   "cell_type": "markdown",
   "metadata": {},
   "source": [
    "## Step 2: Load the Dataset\n",
    "\n",
    "Let's assume you have a CSV file named \"sample_data_of_customers_orders.csv\" with columns like \"Order ID\", \"Order Date\", \"Product\", and \"Quantity\". Load the dataset into a pandas DataFrame."
   ]
  },
  {
   "cell_type": "code",
   "execution_count": 3,
   "metadata": {},
   "outputs": [
    {
     "name": "stdout",
     "output_type": "stream",
     "text": [
      "    Order ID  Order Date    Product  Quantity\n",
      "0       1001  2009-01-15  Product A         3\n",
      "1       1002  2009-01-17  Product B         5\n",
      "2       1003  2009-01-20  Product A         2\n",
      "3       1004  2010-01-22  Product C         1\n",
      "4       1005  2010-01-25  Product B         4\n",
      "5       1006  2023-01-28  Product A         2\n",
      "6       1007  2023-02-02  Product C         3\n",
      "7       1008         NaN  Product B         1\n",
      "8       1009  2023-02-08  Product A         2\n",
      "9       1010  2023-02-10  Product C         4\n",
      "10      1011  2023-02-12  Product A         3\n",
      "11      1012  2023-02-14  Product B         2\n",
      "12      1013         NaN  Product A         1\n",
      "13      1014  2023-02-20  Product C         5\n",
      "14      1015  2023-02-25  Product B         3\n",
      "15      1016  2023-02-28  Product A         2\n",
      "16      1017  2023-03-05  Product C         4\n",
      "17      1018  2023-03-10  Product A         1\n",
      "18      1019  2023-03-12  Product B         3\n",
      "19      1020         NaN  Product C         2\n"
     ]
    }
   ],
   "source": [
    "# Load the dataset\n",
    "data = pd.read_csv(\"sample_data_of_customers_orders.csv\")\n",
    "\n",
    "# Display the first few rows of the dataset\n",
    "#print(data.head())\n",
    "\n",
    "#Diplay table\n",
    "print(data)"
   ]
  },
  {
   "cell_type": "markdown",
   "metadata": {},
   "source": [
    "## Step 3: Data Cleaning and Preprocessing\n",
    "\n",
    "### 3a. Convert Date Columns to DateTime Format:"
   ]
  },
  {
   "cell_type": "code",
   "execution_count": 4,
   "metadata": {},
   "outputs": [
    {
     "name": "stdout",
     "output_type": "stream",
     "text": [
      "Order ID               int64\n",
      "Order Date    datetime64[ns]\n",
      "Product               object\n",
      "Quantity               int64\n",
      "dtype: object\n"
     ]
    }
   ],
   "source": [
    "# Convert \"Order Date\" column to datetime format\n",
    "data['Order Date'] = pd.to_datetime(data['Order Date'])\n",
    "\n",
    "# Check the data types\n",
    "print(data.dtypes)"
   ]
  },
  {
   "cell_type": "markdown",
   "metadata": {},
   "source": [
    "## 3b. Handling Missing Date Values:"
   ]
  },
  {
   "cell_type": "code",
   "execution_count": 5,
   "metadata": {},
   "outputs": [
    {
     "name": "stdout",
     "output_type": "stream",
     "text": [
      "Order ID      0\n",
      "Order Date    3\n",
      "Product       0\n",
      "Quantity      0\n",
      "dtype: int64\n",
      "    Order ID Order Date    Product  Quantity\n",
      "7       1008        NaT  Product B         1\n",
      "12      1013        NaT  Product A         1\n",
      "19      1020        NaT  Product C         2\n",
      "Order ID      0\n",
      "Order Date    0\n",
      "Product       0\n",
      "Quantity      0\n",
      "dtype: int64\n"
     ]
    }
   ],
   "source": [
    "# Check for missing values\n",
    "print(data.isnull().sum())\n",
    "\n",
    "# Identify rows with missing \"Order Date\" values\n",
    "missing_dates = data[data['Order Date'].isnull()]\n",
    "\n",
    "print(missing_dates)\n",
    "\n",
    "# Fill missing dates using forward fill (ffill) method\n",
    "data['Order Date'].fillna(method='ffill', inplace=True)\n",
    "\n",
    "# Check for missing values again\n",
    "print(data.isnull().sum())\n"
   ]
  },
  {
   "cell_type": "markdown",
   "metadata": {},
   "source": [
    "## TASK 1: Further check\n",
    "\n",
    "Create a code-cell below and run the following code and explain:\n",
    "\n",
    "data.isna()\n"
    "You can search meaning using library [here](https://pandas.pydata.org/docs/search.html?q=data.isna)\n"
   ]
  },
  {
   "cell_type": "markdown",
   "metadata": {},
   "source": [
    "## 3c. Removing Outliers:\n",
    "\n",
    "Let's assume we want to remove orders placed before the year 2010 as they seem unlikely in our context."
   ]
  },
  {
   "cell_type": "code",
   "execution_count": 6,
   "metadata": {},
   "outputs": [],
   "source": [
    "# Remove rows with \"Order Date\" before 2010\n",
    "data = data[data['Order Date'].dt.year >= 2010]"
   ]
  },
  {
   "cell_type": "markdown",
   "metadata": {},
   "source": [
    "## 3d. Standardizing Date Formats:\n",
    "\n",
    "We'll standardize the date format to YYYY-MM-DD."
   ]
  },
  {
   "cell_type": "code",
   "execution_count": 7,
   "metadata": {},
   "outputs": [],
   "source": [
    "# Standardize date format\n",
    "data['Order Date'] = data['Order Date'].dt.strftime('%Y-%m-%d')"
   ]
  },
  {
   "cell_type": "markdown",
   "metadata": {},
   "source": [
    "## Step 4: Save Processed Data\n",
    "\n",
    "Save the cleaned and preprocessed data to a new CSV file."
   ]
  },
  {
   "cell_type": "code",
   "execution_count": 8,
   "metadata": {},
   "outputs": [
    {
     "name": "stdout",
     "output_type": "stream",
     "text": [
      "   Order ID  Order Date    Product  Quantity\n",
      "3      1004  2010-01-22  Product C         1\n",
      "4      1005  2010-01-25  Product B         4\n",
      "5      1006  2023-01-28  Product A         2\n",
      "6      1007  2023-02-02  Product C         3\n",
      "7      1008  2023-02-02  Product B         1\n"
     ]
    }
   ],
   "source": [
    "# Save cleaned data to a new CSV file\n",
    "data.to_csv(\"cleaned_data_of_customers_orders.csv\", index=False)\n",
    "\n",
    "# Display the first few rows of the cleaned data\n",
    "print(data.head())"
   ]
  },
  {
   "cell_type": "markdown",
   "metadata": {},
   "source": [
    "## Summary\n",
    "\n",
    "In this example, we \n",
    "\n",
    "i) loaded a customer orders dataset, \n",
    "\n",
    "ii) cleaned the date data by converting it to the datetime format, handling missing values, removing outliers, and standardizing the date format. \n",
    "\n",
    "ii) The cleaned and preprocessed data is then saved to a new CSV file.\n",
    "\n",
    "This forward filling (ffill) method is particularly useful when dealing with time-series or ordered data where values have a logical sequence.\n",
    "\n",
    "Here's how the forward fill method works:\n",
    "\n",
    "- Identify Missing Values: Start by identifying the missing values in your dataset. These are usually represented as NaN (Not a Number) or another specific placeholder.\n",
    "\n",
    "- For Each Missing Value: When you encounter a missing value, you look back to the most recent non-missing value that occurred before the missing value.\n",
    "\n",
    "- Fill with Most Recent Value: You fill the missing value with the most recent non-missing value. Essentially, you propagate the last known value forward to the missing position.\n",
    "\n",
    "- Repeat for Subsequent Missing Values: If you encounter multiple consecutive missing values, each missing value will be filled with the same most recent non-missing value until a new non-missing value is encountered."
   ]
  }
 ],
 "metadata": {
  "kernelspec": {
   "display_name": "Python 3",
   "language": "python",
   "name": "python3"
  },
  "language_info": {
   "codemirror_mode": {
    "name": "ipython",
    "version": 3
   },
   "file_extension": ".py",
   "mimetype": "text/x-python",
   "name": "python",
   "nbconvert_exporter": "python",
   "pygments_lexer": "ipython3",
   "version": "3.10.6"
  },
  "orig_nbformat": 4
 },
 "nbformat": 4,
 "nbformat_minor": 2
}

{
 "cells": [
  {
   "cell_type": "markdown",
   "metadata": {},
   "source": [
    "## 2nd Exercise\n",
    "\n",
    "Let's work through a practical example of data cleaning and preprocessing using Python's pandas library. \n",
    "\n",
    "We'll use an illustrative 'real-world' dataset that contains information about temperature measurements, including dates and temperature values. \n",
    "\n",
    "In this example, we'll cover checking for missing values, handling duplicates of dates, and identifying non-date entries."
   ]
  },
  {
   "cell_type": "markdown",
   "metadata": {},
   "source": [
    "## Step 1: Import Required Libraries"
   ]
  },
  {
   "cell_type": "code",
   "execution_count": 13,
   "metadata": {},
   "outputs": [],
   "source": [
    "import pandas as pd"
   ]
  },
  {
   "cell_type": "markdown",
   "metadata": {},
   "source": [
    "## Step 2: Load the Dataset\n",
    "\n",
    "Assume you have a CSV file named \"sample_temperature_data.csv\" with columns like \"Date\" and \"Temperature.\" Load the dataset into a pandas DataFrame. The data also contain NaN values - [Check here](https://pandas.pydata.org/pandas-docs/stable/user_guide/missing_data.html)"
   ]
  },
  {
   "cell_type": "code",
   "execution_count": 14,
   "metadata": {},
   "outputs": [
    {
     "name": "stdout",
     "output_type": "stream",
     "text": [
      "         Date  Temperature\n",
      "0   2023-01-1         15.5\n",
      "1   2023-01-2         16.2\n",
      "2   2023-01-3         14.8\n",
      "3  2023-01-04          NaN\n",
      "4  2023-01-05         17.2\n"
     ]
    }
   ],
   "source": [
    "# Load the dataset\n",
    "data = pd.read_csv(\"sample_temperature_data.csv\")\n",
    "\n",
    "# Display the first few rows of the dataset\n",
    "print(data.head())"
   ]
  },
  {
   "cell_type": "markdown",
   "metadata": {},
   "source": [
    "## Step 3: Data Cleaning and Preprocessing\n",
    "\n",
    "### 3a. Checking for Missing Values:"
   ]
  },
  {
   "cell_type": "code",
   "execution_count": 15,
   "metadata": {},
   "outputs": [
    {
     "name": "stdout",
     "output_type": "stream",
     "text": [
      "Date           1\n",
      "Temperature    1\n",
      "dtype: int64\n"
     ]
    }
   ],
   "source": [
    "# Check for missing values\n",
    "missing_values = data.isnull().sum()\n",
    "\n",
    "# Display the count of missing values for each column\n",
    "print(missing_values)"
   ]
  },
  {
   "cell_type": "markdown",
   "metadata": {},
   "source": [
    "### 3b. Handling Duplicate Dates:"
   ]
  },
  {
   "cell_type": "code",
   "execution_count": 16,
   "metadata": {},
   "outputs": [
    {
     "name": "stdout",
     "output_type": "stream",
     "text": [
      "          Date  Temperature\n",
      "6   2023-01-06         16.5\n",
      "10  2023-01-10         16.1\n"
     ]
    }
   ],
   "source": [
    "# Check for duplicate date entries\n",
    "duplicate_dates = data[data.duplicated('Date')]\n",
    "\n",
    "# Display the duplicate rows based on the \"Date\" column\n",
    "print(duplicate_dates)\n"
   ]
  },
  {
   "cell_type": "markdown",
   "metadata": {},
   "source": [
    "### 3c. Identifying Non-Date Entries:"
   ]
  },
  {
   "cell_type": "code",
   "execution_count": 17,
   "metadata": {},
   "outputs": [
    {
     "name": "stdout",
     "output_type": "stream",
     "text": [
      "   Date  Temperature\n",
      "13  NaN         18.2\n"
     ]
    }
   ],
   "source": [
    "# Identify non-date entries in the \"Date\" column\n",
    "non_date_entries = data[~pd.to_datetime(data['Date'], errors='coerce').notnull()]\n",
    "\n",
    "# Display the rows with non-date entries\n",
    "print(non_date_entries)"
   ]
  },
  {
   "cell_type": "markdown",
   "metadata": {},
   "source": [
    "### Step 4: Save Processed Data\n",
    "\n",
    "Save the cleaned and preprocessed data to a new CSV file."
   ]
  },
  {
   "cell_type": "code",
   "execution_count": 18,
   "metadata": {},
   "outputs": [
    {
     "name": "stdout",
     "output_type": "stream",
     "text": [
      "         Date  Temperature\n",
      "0   2023-01-1         15.5\n",
      "1   2023-01-2         16.2\n",
      "2   2023-01-3         14.8\n",
      "3  2023-01-04          NaN\n",
      "4  2023-01-05         17.2\n"
     ]
    }
   ],
   "source": [
    "# Save cleaned data to a new CSV file\n",
    "data.to_csv(\"cleaned_temperature_data.csv\", index=False)\n",
    "\n",
    "# Display the first few rows of the cleaned data\n",
    "print(data.head())\n"
   ]
  },
  {
   "cell_type": "markdown",
   "metadata": {},
   "source": [
    "### TASK 1: Delete identified duplicate and display new table (hint create a code cell and use code below)\n",
    "\n",
    "```\n",
    "Drop duplicate date entries:\n",
    "data.drop_duplicates(subset='Date', inplace=True)\n",
    "\n",
    "Display the dataset after removing duplicates:\n",
    "print(\"\\nDataset after Removing Duplicates:\")\n",
    "print(data)\n",
    "```"
   ]
  },
  {
   "cell_type": "markdown",
   "metadata": {},
   "source": [
    "### TASK 2: Try and use some of the previous code to fill missing values here."
   ]
  },
  {
   "cell_type": "markdown",
   "metadata": {},
   "source": [
    "### TASK 3: Calculate and display the percentage of missing values for each column\n",
    "\n",
    "In this code, we calculate the percentage of missing values for each column by dividing the count of missing values ```data.isnull().sum()``` by the total number of rows in the dataset ```len(data)```. Finally, we display the calculated missing value percentages for each column.\n",
    "\n",
    "This will provide you with insights into which columns have the highest percentage of missing values, helping you prioritize your data cleaning efforts.\n",
    "\n",
    "```\n",
    "# Calculate the percentage of missing values for each column\n",
    "missing_percentage = (data.isnull().sum() / len(data)) * 100\n",
    "\n",
    "# Display the percentage of missing values for each column\n",
    "print(\"Percentage of Missing Values for Each Column:\")\n",
    "print(missing_percentage)\n",
    "```\n",
    "\n",
    "\n",
    "\n",
    "\n",
    "\n",
    "\n",
    "\n"
   ]
  },
  {
   "cell_type": "markdown",
   "metadata": {},
   "source": [
    "## Summary\n",
    "\n",
    "In this example, \n",
    "- we loaded a temperature data dataset, \n",
    "- checked for missing values, \n",
    "- handled duplicate date entries, and \n",
    "- identified non-date entries. \n",
    "\n",
    "The cleaned and preprocessed data is then saved to a new CSV file.\n",
    "\n",
    "More advanced techniques based on the specific nature of your dataset"
   ]
  }
 ],
 "metadata": {
  "kernelspec": {
   "display_name": "Python 3",
   "language": "python",
   "name": "python3"
  },
  "language_info": {
   "codemirror_mode": {
    "name": "ipython",
    "version": 3
   },
   "file_extension": ".py",
   "mimetype": "text/x-python",
   "name": "python",
   "nbconvert_exporter": "python",
   "pygments_lexer": "ipython3",
   "version": "3.10.6"
  },
  "orig_nbformat": 4
 },
 "nbformat": 4,
 "nbformat_minor": 2
}
